{
 "cells": [
  {
   "cell_type": "code",
   "execution_count": 7,
   "id": "f1451704-4aec-4f61-b1b5-49316466336b",
   "metadata": {},
   "outputs": [
    {
     "ename": "SyntaxError",
     "evalue": "unterminated string literal (detected at line 6) (1380357689.py, line 6)",
     "output_type": "error",
     "traceback": [
      "  \u001b[36mCell\u001b[39m\u001b[36m \u001b[39m\u001b[32mIn[7]\u001b[39m\u001b[32m, line 6\u001b[39m\n\u001b[31m    \u001b[39m\u001b[31mprint(month:sales_amount\")\u001b[39m\n                            ^\n\u001b[31mSyntaxError\u001b[39m\u001b[31m:\u001b[39m unterminated string literal (detected at line 6)\n"
     ]
    }
   ],
   "source": [
    "monthly_sales = [42,38,33,36,40,45]\n",
    "months=[\"Jan\",\"Feb\",\"March\",\"April\",\"May\",\"June\"]\n",
    "threshold=35\n",
    "\n",
    "for sales_amount,month in zip(monthly_sales,months):\n",
    "    print(month:sales_amount)\n",
    "    if sales_amount<threshold:\n",
    "        print(f\"Sales amount {sales_amount} is less than the threshold in {month}\")\n",
    "        break\n",
    "    else:\n",
    "        print(f\"Sales amount {sales_amount} is greater than the threshold in {month}\")\n",
    "        \n"
   ]
  },
  {
   "cell_type": "code",
   "execution_count": null,
   "id": "dfa333e9-5fcd-4d90-9914-088aa13b619e",
   "metadata": {},
   "outputs": [],
   "source": []
  }
 ],
 "metadata": {
  "kernelspec": {
   "display_name": "Python 3 (ipykernel)",
   "language": "python",
   "name": "python3"
  },
  "language_info": {
   "codemirror_mode": {
    "name": "ipython",
    "version": 3
   },
   "file_extension": ".py",
   "mimetype": "text/x-python",
   "name": "python",
   "nbconvert_exporter": "python",
   "pygments_lexer": "ipython3",
   "version": "3.12.2"
  }
 },
 "nbformat": 4,
 "nbformat_minor": 5
}
