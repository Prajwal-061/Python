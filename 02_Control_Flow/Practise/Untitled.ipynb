{
 "cells": [
  {
   "cell_type": "code",
   "execution_count": 9,
   "id": "f1451704-4aec-4f61-b1b5-49316466336b",
   "metadata": {},
   "outputs": [
    {
     "name": "stdout",
     "output_type": "stream",
     "text": [
      "Jan 42\n",
      "Sales amount 42 is greater than the threshold in Jan\n",
      "Feb 38\n",
      "Sales amount 38 is greater than the threshold in Feb\n",
      "March 33\n",
      "Sales amount 33 is less than the threshold in March\n"
     ]
    }
   ],
   "source": [
    "monthly_sales = [42,38,33,36,40,45]\n",
    "months=[\"Jan\",\"Feb\",\"March\",\"April\",\"May\",\"June\"]\n",
    "threshold=35\n",
    "\n",
    "for sales_amount,month in zip(monthly_sales,months):\n",
    "    # print(month,sales_amount)\n",
    "    if sales_amount<threshold:\n",
    "        print(f\"Sales amount {sales_amount} is less than the threshold in {month}\")\n",
    "        break\n",
    "    else:\n",
    "        print(f\"Sales amount {sales_amount} is greater than the threshold in {month}\")\n",
    "        \n"
   ]
  },
  {
   "cell_type": "code",
   "execution_count": 13,
   "id": "dfa333e9-5fcd-4d90-9914-088aa13b619e",
   "metadata": {},
   "outputs": [
    {
     "name": "stdout",
     "output_type": "stream",
     "text": [
      "1\n",
      "3\n",
      "5\n",
      "7\n",
      "9\n"
     ]
    }
   ],
   "source": [
    "for i in range(1,11):\n",
    " if i % 2 == 0:\n",
    "    continue\n",
    " print(i)"
   ]
  },
  {
   "cell_type": "code",
   "execution_count": null,
   "id": "db0ee281-d1c8-46a7-952d-212ab32ca86b",
   "metadata": {},
   "outputs": [],
   "source": []
  }
 ],
 "metadata": {
  "kernelspec": {
   "display_name": "Python 3 (ipykernel)",
   "language": "python",
   "name": "python3"
  },
  "language_info": {
   "codemirror_mode": {
    "name": "ipython",
    "version": 3
   },
   "file_extension": ".py",
   "mimetype": "text/x-python",
   "name": "python",
   "nbconvert_exporter": "python",
   "pygments_lexer": "ipython3",
   "version": "3.12.2"
  }
 },
 "nbformat": 4,
 "nbformat_minor": 5
}
