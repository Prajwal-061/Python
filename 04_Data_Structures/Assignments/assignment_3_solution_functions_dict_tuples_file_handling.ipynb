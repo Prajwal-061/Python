{
 "cells": [
  {
   "cell_type": "markdown",
   "metadata": {},
   "source": [
    "<h2 align=\"center\" style=\"color:blue\">Codebasics Python Course: Exercise - Functions, Dict, Tuples, File Handling</h2>"
   ]
  },
  {
   "cell_type": "markdown",
   "metadata": {},
   "source": [
    "Imagine you run a loyalty program where customers earn rewards based on the total amount they have spent. The rewards levels are defined based on the total purchase amount. Based on this scenario, complete the following tasks"
   ]
  },
  {
   "cell_type": "markdown",
   "metadata": {},
   "source": [
    "### Task 1\n",
    "\n",
    "You are given a file called ```customers.txt``` that contains the name of the customer and total amount they spent. Read this file line by line and save the customer name and total amount in a dictionary.\n",
    "\n",
    "For example, customers.txt file will content the data in the following format,\n",
    "```\n",
    "Srinivas,120\n",
    "John,250\n",
    "Maria,150\n",
    "Smith,510\n",
    "Anjali,45\n",
    "```\n",
    "\n",
    "You will read this and build a dictionary like this,\n",
    "```\n",
    "{\n",
    "    \"Srinivas\": 120,\n",
    "    \"John\": 250,\n",
    "    \"Maria\": 150,\n",
    "    \"Smith\": 510,\n",
    "    \"Anjali\": 45\n",
    "}\n",
    "```"
   ]
  },
  {
   "cell_type": "code",
   "execution_count": 3,
   "metadata": {},
   "outputs": [
    {
     "data": {
      "text/plain": [
       "{'Srinivas': 120, 'John': 250, 'Maria': 150, 'Smith': 510, 'Anjali': 45}"
      ]
     },
     "execution_count": 3,
     "metadata": {},
     "output_type": "execute_result"
    }
   ],
   "source": [
    "customers_dict = {}\n",
    "\n",
    "with open(\"customers.txt\", \"r\") as f:\n",
    "    for line in f:\n",
    "        customer_name, total_amount = line.strip().split(\",\")\n",
    "        total_amount = int(total_amount)\n",
    "        customers_dict[customer_name] = total_amount\n",
    "customers_dict"
   ]
  },
  {
   "cell_type": "markdown",
   "metadata": {},
   "source": [
    "### Task 2\n",
    "\n",
    "The rewards levels are defined below based on the total purchase amount. Using this define a function called calculate_rewards that takes total as input and returns the reward.\n",
    "\n",
    "```\n",
    "1. Bronze: Total purchases $100-$199\n",
    "1. Silver: Total purchases $200-$499\n",
    "1. Gold: Total purchases $500+\n",
    "```"
   ]
  },
  {
   "cell_type": "code",
   "execution_count": 4,
   "metadata": {},
   "outputs": [
    {
     "data": {
      "text/plain": [
       "'Gold'"
      ]
     },
     "execution_count": 4,
     "metadata": {},
     "output_type": "execute_result"
    }
   ],
   "source": [
    "def calculate_rewards(total):\n",
    "    if total >= 500:\n",
    "        return 'Gold'\n",
    "    elif total >= 200:\n",
    "        return 'Silver'\n",
    "    elif total >= 100:\n",
    "        return 'Bronze'\n",
    "    else:\n",
    "        return 'None'\n",
    "    \n",
    "calculate_rewards(530)"
   ]
  },
  {
   "cell_type": "markdown",
   "metadata": {},
   "source": [
    "### Task 3\n",
    "\n",
    "Now for each of the customers in our customers_dict, calculate the rewards and build a customers_summary dictionary that looks like the following, (key is the name of the customer and the value is a tuple containing total amount and rewards level)\n",
    "\n",
    "```\n",
    "{\n",
    "    'Srinivas': (120, 'Bronze'),\n",
    "    'John': (250, 'Silver'),\n",
    "    'Maria': (150, 'Bronze'),\n",
    "    'Smith': (510, 'Gold'),\n",
    "    'Anjali': (45, 'None')\n",
    "}\n",
    "```"
   ]
  },
  {
   "cell_type": "code",
   "execution_count": 7,
   "metadata": {},
   "outputs": [
    {
     "data": {
      "text/plain": [
       "{'Srinivas': (120, 'Bronze'),\n",
       " 'John': (250, 'Silver'),\n",
       " 'Maria': (150, 'Bronze'),\n",
       " 'Smith': (510, 'Gold'),\n",
       " 'Anjali': (45, 'None')}"
      ]
     },
     "execution_count": 7,
     "metadata": {},
     "output_type": "execute_result"
    }
   ],
   "source": [
    "customer_summary = {}\n",
    "for name, total in customers_dict.items():\n",
    "    rewards_level = calculate_rewards(total)\n",
    "    customer_summary[name] = (total, rewards_level)\n",
    "\n",
    "customer_summary"
   ]
  },
  {
   "cell_type": "markdown",
   "metadata": {},
   "source": [
    "### Task 4\n",
    "\n",
    "Now stitch all of the above code together and create a function that takes file name as input and returns the customer_summary dictionary.\n",
    "\n",
    "```\n",
    "def process_customer_data(file_name):\n",
    "    # return customer_summary dict\n",
    "```"
   ]
  },
  {
   "cell_type": "code",
   "execution_count": 2,
   "metadata": {},
   "outputs": [
    {
     "ename": "NameError",
     "evalue": "name 'customers_dict' is not defined",
     "output_type": "error",
     "traceback": [
      "\u001b[31m---------------------------------------------------------------------------\u001b[39m",
      "\u001b[31mNameError\u001b[39m                                 Traceback (most recent call last)",
      "\u001b[36mCell\u001b[39m\u001b[36m \u001b[39m\u001b[32mIn[2]\u001b[39m\u001b[32m, line 18\u001b[39m\n\u001b[32m     14\u001b[39m         customer_summary[name] = (total, rewards_level)\n\u001b[32m     16\u001b[39m     \u001b[38;5;28;01mreturn\u001b[39;00m customer_summary\n\u001b[32m---> \u001b[39m\u001b[32m18\u001b[39m \u001b[43mprocess_customer_data\u001b[49m\u001b[43m(\u001b[49m\u001b[33;43m\"\u001b[39;49m\u001b[33;43mcustomers.txt\u001b[39;49m\u001b[33;43m\"\u001b[39;49m\u001b[43m)\u001b[49m\n",
      "\u001b[36mCell\u001b[39m\u001b[36m \u001b[39m\u001b[32mIn[2]\u001b[39m\u001b[32m, line 8\u001b[39m, in \u001b[36mprocess_customer_data\u001b[39m\u001b[34m(filename)\u001b[39m\n\u001b[32m      6\u001b[39m         customer_name, total_amount = line.strip().split(\u001b[33m\"\u001b[39m\u001b[33m,\u001b[39m\u001b[33m\"\u001b[39m)\n\u001b[32m      7\u001b[39m         total_amount = \u001b[38;5;28mint\u001b[39m(total_amount)\n\u001b[32m----> \u001b[39m\u001b[32m8\u001b[39m         \u001b[43mcustomers_dict\u001b[49m[customer_name] = total_amount\n\u001b[32m     10\u001b[39m \u001b[38;5;66;03m# Categorize customers and prepare the summary\u001b[39;00m\n\u001b[32m     11\u001b[39m customer_summary = {}\n",
      "\u001b[31mNameError\u001b[39m: name 'customers_dict' is not defined"
     ]
    }
   ],
   "source": [
    "# Function to process customer data from file\n",
    "def process_customer_data(filename):\n",
    "    rewards_data = {}\n",
    "    with open(filename, \"r\") as f:\n",
    "        for line in f:\n",
    "            customer_name, total_amount = line.strip().split(\",\")\n",
    "            total_amount = int(total_amount)\n",
    "            customers_dict[customer_name] = total_amount\n",
    "    \n",
    "    # Categorize customers and prepare the summary\n",
    "    customer_summary = {}\n",
    "    for name, total in customers_dict.items():\n",
    "        rewards_level = calculate_rewards(total)\n",
    "        customer_summary[name] = (total, rewards_level)\n",
    "\n",
    "    return customer_summary\n",
    "\n",
    "process_customer_data(\"customers.txt\")"
   ]
  },
  {
   "cell_type": "code",
   "execution_count": null,
   "metadata": {},
   "outputs": [],
   "source": []
  }
 ],
 "metadata": {
  "colab": {
   "collapsed_sections": [],
   "name": "1_Variables.ipynb",
   "provenance": []
  },
  "kernelspec": {
   "display_name": "Python 3 (ipykernel)",
   "language": "python",
   "name": "python3"
  },
  "language_info": {
   "codemirror_mode": {
    "name": "ipython",
    "version": 3
   },
   "file_extension": ".py",
   "mimetype": "text/x-python",
   "name": "python",
   "nbconvert_exporter": "python",
   "pygments_lexer": "ipython3",
   "version": "3.12.2"
  }
 },
 "nbformat": 4,
 "nbformat_minor": 4
}
