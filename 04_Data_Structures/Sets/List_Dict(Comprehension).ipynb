{
 "cells": [
  {
   "cell_type": "code",
   "execution_count": 1,
   "id": "3f383d68-7c10-427e-8db8-0d53065bb000",
   "metadata": {},
   "outputs": [
    {
     "name": "stdout",
     "output_type": "stream",
     "text": [
      "[1, 4, 9, 16, 25]\n"
     ]
    }
   ],
   "source": [
    "numbers=[1,2,3,4,5]\n",
    "sqr_numbers=[]\n",
    "for n in numbers:\n",
    "    sqr_numbers.append(n*n)\n",
    "print(sqr_numbers)"
   ]
  },
  {
   "cell_type": "code",
   "execution_count": 2,
   "id": "294d1440-30a7-418c-9401-ef7c492c6fb7",
   "metadata": {},
   "outputs": [
    {
     "data": {
      "text/plain": [
       "[1, 4, 9, 16, 25]"
      ]
     },
     "execution_count": 2,
     "metadata": {},
     "output_type": "execute_result"
    }
   ],
   "source": [
    "# list comphrension\n",
    "sqr_numbers=[n*n for n in numbers]\n",
    "sqr_numbers"
   ]
  },
  {
   "cell_type": "code",
   "execution_count": 3,
   "id": "e9740354-78ea-4db3-aa6c-afd89dae619f",
   "metadata": {},
   "outputs": [
    {
     "data": {
      "text/plain": [
       "[11.11111111111111, 8.0, 2.0, 25.0]"
      ]
     },
     "execution_count": 3,
     "metadata": {},
     "output_type": "execute_result"
    }
   ],
   "source": [
    "price=[100,120,80,50]\n",
    "earning_per_share=[9,15,40,2]\n",
    "pe_ratio=[ p/e for p,e in zip(price,earning_per_share)]\n",
    "pe_ratio"
   ]
  },
  {
   "cell_type": "code",
   "execution_count": 4,
   "id": "e4ad06c7-1b70-4a0c-bd6b-295cbdce8432",
   "metadata": {},
   "outputs": [
    {
     "data": {
      "text/plain": [
       "[-1, 8.0, 2.0, 25.0]"
      ]
     },
     "execution_count": 4,
     "metadata": {},
     "output_type": "execute_result"
    }
   ],
   "source": [
    "price=[100,120,80,50]\n",
    "earning_per_share=[0,15,40,2]\n",
    "pe_ratio=[ p/e  if e!=0 else -1 for p,e in zip(price,earning_per_share)]\n",
    "pe_ratio"
   ]
  },
  {
   "cell_type": "code",
   "execution_count": 5,
   "id": "6fd5d4f1-6676-450b-b9ea-d3239a1d88b9",
   "metadata": {},
   "outputs": [
    {
     "data": {
      "text/plain": [
       "[5, 6, 6, 4]"
      ]
     },
     "execution_count": 5,
     "metadata": {},
     "output_type": "execute_result"
    }
   ],
   "source": [
    "words=[\"apple\",\"banana\",\"cherry\",\"date\"]\n",
    "lengths=[len(word) for word in words]\n",
    "lengths"
   ]
  },
  {
   "cell_type": "code",
   "execution_count": 8,
   "id": "27a7035d-c315-4f84-9419-940b4af1b72c",
   "metadata": {},
   "outputs": [
    {
     "name": "stdout",
     "output_type": "stream",
     "text": [
      "Alice\n",
      "25\n",
      "Bob\n",
      "30\n",
      "Charlie\n",
      "35\n"
     ]
    }
   ],
   "source": [
    "# Dictionary comprehension\n",
    "names=['Alice','Bob','Charlie']\n",
    "ages=[25,30,35]\n",
    "\n",
    "for i in range(len(names)):\n",
    " print(names[i])\n",
    " print(ages[i])\n"
   ]
  },
  {
   "cell_type": "code",
   "execution_count": 10,
   "id": "f7a5bfd5-2d53-4eed-8d10-db94eaa035b0",
   "metadata": {},
   "outputs": [
    {
     "data": {
      "text/plain": [
       "{'Alice': 25, 'Bob': 30, 'Charlie': 35}"
      ]
     },
     "execution_count": 10,
     "metadata": {},
     "output_type": "execute_result"
    }
   ],
   "source": [
    "# dict comprehension\n",
    "name_age_dict={names[i]:ages[i] for i in range(len(names))}\n",
    "name_age_dict"
   ]
  },
  {
   "cell_type": "code",
   "execution_count": null,
   "id": "955e718f-d1d9-40ca-a1cd-90955ffd8ce8",
   "metadata": {},
   "outputs": [],
   "source": []
  }
 ],
 "metadata": {
  "kernelspec": {
   "display_name": "Python 3 (ipykernel)",
   "language": "python",
   "name": "python3"
  },
  "language_info": {
   "codemirror_mode": {
    "name": "ipython",
    "version": 3
   },
   "file_extension": ".py",
   "mimetype": "text/x-python",
   "name": "python",
   "nbconvert_exporter": "python",
   "pygments_lexer": "ipython3",
   "version": "3.12.2"
  }
 },
 "nbformat": 4,
 "nbformat_minor": 5
}
